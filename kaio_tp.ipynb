{
  "cells": [
    {
      "attachments": {},
      "cell_type": "markdown",
      "metadata": {},
      "source": [
        "##teams"
      ]
    },
    {
      "cell_type": "code",
      "execution_count": 2,
      "metadata": {
        "colab": {
          "base_uri": "https://localhost:8080/"
        },
        "id": "k4mGzON_lknj",
        "outputId": "767a2915-d2b6-4500-e714-6a6e5fea9ace"
      },
      "outputs": [],
      "source": [
        "\n",
        "import os\n",
        "import sys\n",
        "import plotly.graph_objects as go\n",
        "\n",
        "from tqdm.notebook import tqdm\n",
        "\n",
        "import math\n",
        "\n",
        "import pandas as pd\n",
        "import json\n",
        "pd.set_option('display.max_columns', None)\n",
        "\n",
        "from io import BytesIO\n",
        "from pathlib import Path\n",
        "\n",
        "import socceraction.spadl as spadl\n",
        "import socceraction.spadl.wyscout as wyscout\n",
        "import json"
      ]
    },
    {
      "cell_type": "code",
      "execution_count": 3,
      "metadata": {
        "colab": {
          "base_uri": "https://localhost:8080/"
        },
        "id": "qz_px1FJQ2w9",
        "outputId": "c8098081-cd6b-421f-815b-bf2c0721acb9"
      },
      "outputs": [],
      "source": [
        "with open('files/teams.json', 'r') as f:\n",
        "    data = json.load(f)\n",
        "df_teams = pd.DataFrame(data)\n",
        "\n",
        "with open('files/events_England.json', 'r') as f:\n",
        "    data = json.load(f)\n",
        "df_events = pd.DataFrame(data)"
      ]
    },
    {
      "cell_type": "code",
      "execution_count": 23,
      "metadata": {
        "id": "_OAtTo_em8gL"
      },
      "outputs": [],
      "source": [
        "# To-dos:\n",
        "    # Fazer \"de-para\" (busca em campos json) com as colunas colunas: playerId, matchID, teamID\n",
        "    # Ao buscar o matchID dá pra criar uma coluna data do jogo tb\n",
        "    # remover colunas eventId, subEventName, id"
      ]
    },
    {
      "cell_type": "code",
      "execution_count": 4,
      "metadata": {},
      "outputs": [
        {
          "data": {
            "text/html": [
              "<div>\n",
              "<style scoped>\n",
              "    .dataframe tbody tr th:only-of-type {\n",
              "        vertical-align: middle;\n",
              "    }\n",
              "\n",
              "    .dataframe tbody tr th {\n",
              "        vertical-align: top;\n",
              "    }\n",
              "\n",
              "    .dataframe thead th {\n",
              "        text-align: right;\n",
              "    }\n",
              "</style>\n",
              "<table border=\"1\" class=\"dataframe\">\n",
              "  <thead>\n",
              "    <tr style=\"text-align: right;\">\n",
              "      <th></th>\n",
              "      <th>eventId</th>\n",
              "      <th>subEventName</th>\n",
              "      <th>tags</th>\n",
              "      <th>playerId</th>\n",
              "      <th>positions</th>\n",
              "      <th>matchId</th>\n",
              "      <th>eventName</th>\n",
              "      <th>teamId</th>\n",
              "      <th>matchPeriod</th>\n",
              "      <th>eventSec</th>\n",
              "      <th>subEventId</th>\n",
              "      <th>id</th>\n",
              "    </tr>\n",
              "  </thead>\n",
              "  <tbody>\n",
              "    <tr>\n",
              "      <th>0</th>\n",
              "      <td>8</td>\n",
              "      <td>Simple pass</td>\n",
              "      <td>[{'id': 1801}]</td>\n",
              "      <td>25413</td>\n",
              "      <td>[{'y': 49, 'x': 49}, {'y': 78, 'x': 31}]</td>\n",
              "      <td>2499719</td>\n",
              "      <td>Pass</td>\n",
              "      <td>1609</td>\n",
              "      <td>1H</td>\n",
              "      <td>2.758649</td>\n",
              "      <td>85</td>\n",
              "      <td>177959171</td>\n",
              "    </tr>\n",
              "    <tr>\n",
              "      <th>1</th>\n",
              "      <td>8</td>\n",
              "      <td>High pass</td>\n",
              "      <td>[{'id': 1801}]</td>\n",
              "      <td>370224</td>\n",
              "      <td>[{'y': 78, 'x': 31}, {'y': 75, 'x': 51}]</td>\n",
              "      <td>2499719</td>\n",
              "      <td>Pass</td>\n",
              "      <td>1609</td>\n",
              "      <td>1H</td>\n",
              "      <td>4.946850</td>\n",
              "      <td>83</td>\n",
              "      <td>177959172</td>\n",
              "    </tr>\n",
              "    <tr>\n",
              "      <th>2</th>\n",
              "      <td>8</td>\n",
              "      <td>Head pass</td>\n",
              "      <td>[{'id': 1801}]</td>\n",
              "      <td>3319</td>\n",
              "      <td>[{'y': 75, 'x': 51}, {'y': 71, 'x': 35}]</td>\n",
              "      <td>2499719</td>\n",
              "      <td>Pass</td>\n",
              "      <td>1609</td>\n",
              "      <td>1H</td>\n",
              "      <td>6.542188</td>\n",
              "      <td>82</td>\n",
              "      <td>177959173</td>\n",
              "    </tr>\n",
              "    <tr>\n",
              "      <th>3</th>\n",
              "      <td>8</td>\n",
              "      <td>Head pass</td>\n",
              "      <td>[{'id': 1801}]</td>\n",
              "      <td>120339</td>\n",
              "      <td>[{'y': 71, 'x': 35}, {'y': 95, 'x': 41}]</td>\n",
              "      <td>2499719</td>\n",
              "      <td>Pass</td>\n",
              "      <td>1609</td>\n",
              "      <td>1H</td>\n",
              "      <td>8.143395</td>\n",
              "      <td>82</td>\n",
              "      <td>177959174</td>\n",
              "    </tr>\n",
              "    <tr>\n",
              "      <th>4</th>\n",
              "      <td>8</td>\n",
              "      <td>Simple pass</td>\n",
              "      <td>[{'id': 1801}]</td>\n",
              "      <td>167145</td>\n",
              "      <td>[{'y': 95, 'x': 41}, {'y': 88, 'x': 72}]</td>\n",
              "      <td>2499719</td>\n",
              "      <td>Pass</td>\n",
              "      <td>1609</td>\n",
              "      <td>1H</td>\n",
              "      <td>10.302366</td>\n",
              "      <td>85</td>\n",
              "      <td>177959175</td>\n",
              "    </tr>\n",
              "    <tr>\n",
              "      <th>...</th>\n",
              "      <td>...</td>\n",
              "      <td>...</td>\n",
              "      <td>...</td>\n",
              "      <td>...</td>\n",
              "      <td>...</td>\n",
              "      <td>...</td>\n",
              "      <td>...</td>\n",
              "      <td>...</td>\n",
              "      <td>...</td>\n",
              "      <td>...</td>\n",
              "      <td>...</td>\n",
              "      <td>...</td>\n",
              "    </tr>\n",
              "    <tr>\n",
              "      <th>643145</th>\n",
              "      <td>5</td>\n",
              "      <td>Ball out of the field</td>\n",
              "      <td>[]</td>\n",
              "      <td>0</td>\n",
              "      <td>[{'y': 32, 'x': 0}, {'y': 100, 'x': 100}]</td>\n",
              "      <td>2500098</td>\n",
              "      <td>Interruption</td>\n",
              "      <td>1623</td>\n",
              "      <td>2H</td>\n",
              "      <td>2796.732525</td>\n",
              "      <td>50</td>\n",
              "      <td>251596409</td>\n",
              "    </tr>\n",
              "    <tr>\n",
              "      <th>643146</th>\n",
              "      <td>3</td>\n",
              "      <td>Corner</td>\n",
              "      <td>[{'id': 302}, {'id': 801}, {'id': 1801}]</td>\n",
              "      <td>70965</td>\n",
              "      <td>[{'y': 100, 'x': 100}, {'y': 47, 'x': 88}]</td>\n",
              "      <td>2500098</td>\n",
              "      <td>Free Kick</td>\n",
              "      <td>1633</td>\n",
              "      <td>2H</td>\n",
              "      <td>2829.821084</td>\n",
              "      <td>30</td>\n",
              "      <td>251596232</td>\n",
              "    </tr>\n",
              "    <tr>\n",
              "      <th>643147</th>\n",
              "      <td>1</td>\n",
              "      <td>Air duel</td>\n",
              "      <td>[{'id': 701}, {'id': 1802}]</td>\n",
              "      <td>7919</td>\n",
              "      <td>[{'y': 53, 'x': 12}, {'y': 50, 'x': 14}]</td>\n",
              "      <td>2500098</td>\n",
              "      <td>Duel</td>\n",
              "      <td>1623</td>\n",
              "      <td>2H</td>\n",
              "      <td>2831.211419</td>\n",
              "      <td>10</td>\n",
              "      <td>251596410</td>\n",
              "    </tr>\n",
              "    <tr>\n",
              "      <th>643148</th>\n",
              "      <td>1</td>\n",
              "      <td>Air duel</td>\n",
              "      <td>[{'id': 703}, {'id': 1801}]</td>\n",
              "      <td>8005</td>\n",
              "      <td>[{'y': 47, 'x': 88}, {'y': 50, 'x': 86}]</td>\n",
              "      <td>2500098</td>\n",
              "      <td>Duel</td>\n",
              "      <td>1633</td>\n",
              "      <td>2H</td>\n",
              "      <td>2832.434399</td>\n",
              "      <td>10</td>\n",
              "      <td>251596234</td>\n",
              "    </tr>\n",
              "    <tr>\n",
              "      <th>643149</th>\n",
              "      <td>10</td>\n",
              "      <td>Shot</td>\n",
              "      <td>[{'id': 403}, {'id': 201}, {'id': 1216}, {'id'...</td>\n",
              "      <td>8005</td>\n",
              "      <td>[{'y': 50, 'x': 86}, {'y': 0, 'x': 0}]</td>\n",
              "      <td>2500098</td>\n",
              "      <td>Shot</td>\n",
              "      <td>1633</td>\n",
              "      <td>2H</td>\n",
              "      <td>2834.127168</td>\n",
              "      <td>100</td>\n",
              "      <td>251596236</td>\n",
              "    </tr>\n",
              "  </tbody>\n",
              "</table>\n",
              "<p>643150 rows × 12 columns</p>\n",
              "</div>"
            ],
            "text/plain": [
              "        eventId           subEventName  \\\n",
              "0             8            Simple pass   \n",
              "1             8              High pass   \n",
              "2             8              Head pass   \n",
              "3             8              Head pass   \n",
              "4             8            Simple pass   \n",
              "...         ...                    ...   \n",
              "643145        5  Ball out of the field   \n",
              "643146        3                 Corner   \n",
              "643147        1               Air duel   \n",
              "643148        1               Air duel   \n",
              "643149       10                   Shot   \n",
              "\n",
              "                                                     tags  playerId  \\\n",
              "0                                          [{'id': 1801}]     25413   \n",
              "1                                          [{'id': 1801}]    370224   \n",
              "2                                          [{'id': 1801}]      3319   \n",
              "3                                          [{'id': 1801}]    120339   \n",
              "4                                          [{'id': 1801}]    167145   \n",
              "...                                                   ...       ...   \n",
              "643145                                                 []         0   \n",
              "643146           [{'id': 302}, {'id': 801}, {'id': 1801}]     70965   \n",
              "643147                        [{'id': 701}, {'id': 1802}]      7919   \n",
              "643148                        [{'id': 703}, {'id': 1801}]      8005   \n",
              "643149  [{'id': 403}, {'id': 201}, {'id': 1216}, {'id'...      8005   \n",
              "\n",
              "                                         positions  matchId     eventName  \\\n",
              "0         [{'y': 49, 'x': 49}, {'y': 78, 'x': 31}]  2499719          Pass   \n",
              "1         [{'y': 78, 'x': 31}, {'y': 75, 'x': 51}]  2499719          Pass   \n",
              "2         [{'y': 75, 'x': 51}, {'y': 71, 'x': 35}]  2499719          Pass   \n",
              "3         [{'y': 71, 'x': 35}, {'y': 95, 'x': 41}]  2499719          Pass   \n",
              "4         [{'y': 95, 'x': 41}, {'y': 88, 'x': 72}]  2499719          Pass   \n",
              "...                                            ...      ...           ...   \n",
              "643145   [{'y': 32, 'x': 0}, {'y': 100, 'x': 100}]  2500098  Interruption   \n",
              "643146  [{'y': 100, 'x': 100}, {'y': 47, 'x': 88}]  2500098     Free Kick   \n",
              "643147    [{'y': 53, 'x': 12}, {'y': 50, 'x': 14}]  2500098          Duel   \n",
              "643148    [{'y': 47, 'x': 88}, {'y': 50, 'x': 86}]  2500098          Duel   \n",
              "643149      [{'y': 50, 'x': 86}, {'y': 0, 'x': 0}]  2500098          Shot   \n",
              "\n",
              "        teamId matchPeriod     eventSec subEventId         id  \n",
              "0         1609          1H     2.758649         85  177959171  \n",
              "1         1609          1H     4.946850         83  177959172  \n",
              "2         1609          1H     6.542188         82  177959173  \n",
              "3         1609          1H     8.143395         82  177959174  \n",
              "4         1609          1H    10.302366         85  177959175  \n",
              "...        ...         ...          ...        ...        ...  \n",
              "643145    1623          2H  2796.732525         50  251596409  \n",
              "643146    1633          2H  2829.821084         30  251596232  \n",
              "643147    1623          2H  2831.211419         10  251596410  \n",
              "643148    1633          2H  2832.434399         10  251596234  \n",
              "643149    1633          2H  2834.127168        100  251596236  \n",
              "\n",
              "[643150 rows x 12 columns]"
            ]
          },
          "execution_count": 4,
          "metadata": {},
          "output_type": "execute_result"
        }
      ],
      "source": [
        "df_events"
      ]
    },
    {
      "cell_type": "code",
      "execution_count": 5,
      "metadata": {
        "colab": {
          "base_uri": "https://localhost:8080/",
          "height": 35
        },
        "id": "7KSAkxhxRL5-",
        "outputId": "95a277f2-8d09-43c5-e1c2-a78f89cab6bc"
      },
      "outputs": [
        {
          "data": {
            "text/html": [
              "<div>\n",
              "<style scoped>\n",
              "    .dataframe tbody tr th:only-of-type {\n",
              "        vertical-align: middle;\n",
              "    }\n",
              "\n",
              "    .dataframe tbody tr th {\n",
              "        vertical-align: top;\n",
              "    }\n",
              "\n",
              "    .dataframe thead th {\n",
              "        text-align: right;\n",
              "    }\n",
              "</style>\n",
              "<table border=\"1\" class=\"dataframe\">\n",
              "  <thead>\n",
              "    <tr style=\"text-align: right;\">\n",
              "      <th></th>\n",
              "      <th>city</th>\n",
              "      <th>name</th>\n",
              "      <th>wyId</th>\n",
              "      <th>officialName</th>\n",
              "      <th>area</th>\n",
              "      <th>type</th>\n",
              "    </tr>\n",
              "  </thead>\n",
              "  <tbody>\n",
              "    <tr>\n",
              "      <th>0</th>\n",
              "      <td>Newcastle upon Tyne</td>\n",
              "      <td>Newcastle United</td>\n",
              "      <td>1613</td>\n",
              "      <td>Newcastle United FC</td>\n",
              "      <td>{'name': 'England', 'id': '0', 'alpha3code': '...</td>\n",
              "      <td>club</td>\n",
              "    </tr>\n",
              "    <tr>\n",
              "      <th>1</th>\n",
              "      <td>Vigo</td>\n",
              "      <td>Celta de Vigo</td>\n",
              "      <td>692</td>\n",
              "      <td>Real Club Celta de Vigo</td>\n",
              "      <td>{'name': 'Spain', 'id': '724', 'alpha3code': '...</td>\n",
              "      <td>club</td>\n",
              "    </tr>\n",
              "    <tr>\n",
              "      <th>2</th>\n",
              "      <td>Barcelona</td>\n",
              "      <td>Espanyol</td>\n",
              "      <td>691</td>\n",
              "      <td>Reial Club Deportiu Espanyol</td>\n",
              "      <td>{'name': 'Spain', 'id': '724', 'alpha3code': '...</td>\n",
              "      <td>club</td>\n",
              "    </tr>\n",
              "    <tr>\n",
              "      <th>3</th>\n",
              "      <td>Vitoria-Gasteiz</td>\n",
              "      <td>Deportivo Alav\\u00e9s</td>\n",
              "      <td>696</td>\n",
              "      <td>Deportivo Alav\\u00e9s</td>\n",
              "      <td>{'name': 'Spain', 'id': '724', 'alpha3code': '...</td>\n",
              "      <td>club</td>\n",
              "    </tr>\n",
              "    <tr>\n",
              "      <th>4</th>\n",
              "      <td>Valencia</td>\n",
              "      <td>Levante</td>\n",
              "      <td>695</td>\n",
              "      <td>Levante UD</td>\n",
              "      <td>{'name': 'Spain', 'id': '724', 'alpha3code': '...</td>\n",
              "      <td>club</td>\n",
              "    </tr>\n",
              "  </tbody>\n",
              "</table>\n",
              "</div>"
            ],
            "text/plain": [
              "                  city                   name  wyId  \\\n",
              "0  Newcastle upon Tyne       Newcastle United  1613   \n",
              "1                 Vigo          Celta de Vigo   692   \n",
              "2            Barcelona               Espanyol   691   \n",
              "3      Vitoria-Gasteiz  Deportivo Alav\\u00e9s   696   \n",
              "4             Valencia                Levante   695   \n",
              "\n",
              "                   officialName  \\\n",
              "0           Newcastle United FC   \n",
              "1       Real Club Celta de Vigo   \n",
              "2  Reial Club Deportiu Espanyol   \n",
              "3         Deportivo Alav\\u00e9s   \n",
              "4                    Levante UD   \n",
              "\n",
              "                                                area  type  \n",
              "0  {'name': 'England', 'id': '0', 'alpha3code': '...  club  \n",
              "1  {'name': 'Spain', 'id': '724', 'alpha3code': '...  club  \n",
              "2  {'name': 'Spain', 'id': '724', 'alpha3code': '...  club  \n",
              "3  {'name': 'Spain', 'id': '724', 'alpha3code': '...  club  \n",
              "4  {'name': 'Spain', 'id': '724', 'alpha3code': '...  club  "
            ]
          },
          "execution_count": 5,
          "metadata": {},
          "output_type": "execute_result"
        }
      ],
      "source": [
        "df_teams.head()"
      ]
    },
    {
      "cell_type": "code",
      "execution_count": 6,
      "metadata": {
        "colab": {
          "base_uri": "https://localhost:8080/"
        },
        "id": "DlbQmO-pRTAl",
        "outputId": "de00fd41-0d29-4209-9486-4c6e584fdb37"
      },
      "outputs": [],
      "source": [
        "df = pd.merge(df_events, df_teams, left_on='teamId', right_on='wyId', how='left')"
      ]
    },
    {
      "cell_type": "code",
      "execution_count": 8,
      "metadata": {},
      "outputs": [
        {
          "data": {
            "text/html": [
              "<div>\n",
              "<style scoped>\n",
              "    .dataframe tbody tr th:only-of-type {\n",
              "        vertical-align: middle;\n",
              "    }\n",
              "\n",
              "    .dataframe tbody tr th {\n",
              "        vertical-align: top;\n",
              "    }\n",
              "\n",
              "    .dataframe thead th {\n",
              "        text-align: right;\n",
              "    }\n",
              "</style>\n",
              "<table border=\"1\" class=\"dataframe\">\n",
              "  <thead>\n",
              "    <tr style=\"text-align: right;\">\n",
              "      <th></th>\n",
              "      <th>eventId</th>\n",
              "      <th>subEventName</th>\n",
              "      <th>tags</th>\n",
              "      <th>playerId</th>\n",
              "      <th>positions</th>\n",
              "      <th>matchId</th>\n",
              "      <th>eventName</th>\n",
              "      <th>teamId</th>\n",
              "      <th>matchPeriod</th>\n",
              "      <th>eventSec</th>\n",
              "      <th>subEventId</th>\n",
              "      <th>id</th>\n",
              "      <th>city</th>\n",
              "      <th>name</th>\n",
              "      <th>wyId</th>\n",
              "      <th>officialName</th>\n",
              "      <th>area</th>\n",
              "      <th>type</th>\n",
              "    </tr>\n",
              "  </thead>\n",
              "  <tbody>\n",
              "    <tr>\n",
              "      <th>0</th>\n",
              "      <td>8</td>\n",
              "      <td>Simple pass</td>\n",
              "      <td>[{'id': 1801}]</td>\n",
              "      <td>25413</td>\n",
              "      <td>[{'y': 49, 'x': 49}, {'y': 78, 'x': 31}]</td>\n",
              "      <td>2499719</td>\n",
              "      <td>Pass</td>\n",
              "      <td>1609</td>\n",
              "      <td>1H</td>\n",
              "      <td>2.758649</td>\n",
              "      <td>85</td>\n",
              "      <td>177959171</td>\n",
              "      <td>London</td>\n",
              "      <td>Arsenal</td>\n",
              "      <td>1609</td>\n",
              "      <td>Arsenal FC</td>\n",
              "      <td>{'name': 'England', 'id': '0', 'alpha3code': '...</td>\n",
              "      <td>club</td>\n",
              "    </tr>\n",
              "    <tr>\n",
              "      <th>1</th>\n",
              "      <td>8</td>\n",
              "      <td>High pass</td>\n",
              "      <td>[{'id': 1801}]</td>\n",
              "      <td>370224</td>\n",
              "      <td>[{'y': 78, 'x': 31}, {'y': 75, 'x': 51}]</td>\n",
              "      <td>2499719</td>\n",
              "      <td>Pass</td>\n",
              "      <td>1609</td>\n",
              "      <td>1H</td>\n",
              "      <td>4.946850</td>\n",
              "      <td>83</td>\n",
              "      <td>177959172</td>\n",
              "      <td>London</td>\n",
              "      <td>Arsenal</td>\n",
              "      <td>1609</td>\n",
              "      <td>Arsenal FC</td>\n",
              "      <td>{'name': 'England', 'id': '0', 'alpha3code': '...</td>\n",
              "      <td>club</td>\n",
              "    </tr>\n",
              "    <tr>\n",
              "      <th>2</th>\n",
              "      <td>8</td>\n",
              "      <td>Head pass</td>\n",
              "      <td>[{'id': 1801}]</td>\n",
              "      <td>3319</td>\n",
              "      <td>[{'y': 75, 'x': 51}, {'y': 71, 'x': 35}]</td>\n",
              "      <td>2499719</td>\n",
              "      <td>Pass</td>\n",
              "      <td>1609</td>\n",
              "      <td>1H</td>\n",
              "      <td>6.542188</td>\n",
              "      <td>82</td>\n",
              "      <td>177959173</td>\n",
              "      <td>London</td>\n",
              "      <td>Arsenal</td>\n",
              "      <td>1609</td>\n",
              "      <td>Arsenal FC</td>\n",
              "      <td>{'name': 'England', 'id': '0', 'alpha3code': '...</td>\n",
              "      <td>club</td>\n",
              "    </tr>\n",
              "    <tr>\n",
              "      <th>3</th>\n",
              "      <td>8</td>\n",
              "      <td>Head pass</td>\n",
              "      <td>[{'id': 1801}]</td>\n",
              "      <td>120339</td>\n",
              "      <td>[{'y': 71, 'x': 35}, {'y': 95, 'x': 41}]</td>\n",
              "      <td>2499719</td>\n",
              "      <td>Pass</td>\n",
              "      <td>1609</td>\n",
              "      <td>1H</td>\n",
              "      <td>8.143395</td>\n",
              "      <td>82</td>\n",
              "      <td>177959174</td>\n",
              "      <td>London</td>\n",
              "      <td>Arsenal</td>\n",
              "      <td>1609</td>\n",
              "      <td>Arsenal FC</td>\n",
              "      <td>{'name': 'England', 'id': '0', 'alpha3code': '...</td>\n",
              "      <td>club</td>\n",
              "    </tr>\n",
              "    <tr>\n",
              "      <th>4</th>\n",
              "      <td>8</td>\n",
              "      <td>Simple pass</td>\n",
              "      <td>[{'id': 1801}]</td>\n",
              "      <td>167145</td>\n",
              "      <td>[{'y': 95, 'x': 41}, {'y': 88, 'x': 72}]</td>\n",
              "      <td>2499719</td>\n",
              "      <td>Pass</td>\n",
              "      <td>1609</td>\n",
              "      <td>1H</td>\n",
              "      <td>10.302366</td>\n",
              "      <td>85</td>\n",
              "      <td>177959175</td>\n",
              "      <td>London</td>\n",
              "      <td>Arsenal</td>\n",
              "      <td>1609</td>\n",
              "      <td>Arsenal FC</td>\n",
              "      <td>{'name': 'England', 'id': '0', 'alpha3code': '...</td>\n",
              "      <td>club</td>\n",
              "    </tr>\n",
              "  </tbody>\n",
              "</table>\n",
              "</div>"
            ],
            "text/plain": [
              "   eventId subEventName            tags  playerId  \\\n",
              "0        8  Simple pass  [{'id': 1801}]     25413   \n",
              "1        8    High pass  [{'id': 1801}]    370224   \n",
              "2        8    Head pass  [{'id': 1801}]      3319   \n",
              "3        8    Head pass  [{'id': 1801}]    120339   \n",
              "4        8  Simple pass  [{'id': 1801}]    167145   \n",
              "\n",
              "                                  positions  matchId eventName  teamId  \\\n",
              "0  [{'y': 49, 'x': 49}, {'y': 78, 'x': 31}]  2499719      Pass    1609   \n",
              "1  [{'y': 78, 'x': 31}, {'y': 75, 'x': 51}]  2499719      Pass    1609   \n",
              "2  [{'y': 75, 'x': 51}, {'y': 71, 'x': 35}]  2499719      Pass    1609   \n",
              "3  [{'y': 71, 'x': 35}, {'y': 95, 'x': 41}]  2499719      Pass    1609   \n",
              "4  [{'y': 95, 'x': 41}, {'y': 88, 'x': 72}]  2499719      Pass    1609   \n",
              "\n",
              "  matchPeriod   eventSec subEventId         id    city     name  wyId  \\\n",
              "0          1H   2.758649         85  177959171  London  Arsenal  1609   \n",
              "1          1H   4.946850         83  177959172  London  Arsenal  1609   \n",
              "2          1H   6.542188         82  177959173  London  Arsenal  1609   \n",
              "3          1H   8.143395         82  177959174  London  Arsenal  1609   \n",
              "4          1H  10.302366         85  177959175  London  Arsenal  1609   \n",
              "\n",
              "  officialName                                               area  type  \n",
              "0   Arsenal FC  {'name': 'England', 'id': '0', 'alpha3code': '...  club  \n",
              "1   Arsenal FC  {'name': 'England', 'id': '0', 'alpha3code': '...  club  \n",
              "2   Arsenal FC  {'name': 'England', 'id': '0', 'alpha3code': '...  club  \n",
              "3   Arsenal FC  {'name': 'England', 'id': '0', 'alpha3code': '...  club  \n",
              "4   Arsenal FC  {'name': 'England', 'id': '0', 'alpha3code': '...  club  "
            ]
          },
          "execution_count": 8,
          "metadata": {},
          "output_type": "execute_result"
        }
      ],
      "source": [
        "df.head()"
      ]
    },
    {
      "cell_type": "code",
      "execution_count": 9,
      "metadata": {},
      "outputs": [
        {
          "data": {
            "text/plain": [
              "array(['Simple pass', 'High pass', 'Head pass', 'Air duel',\n",
              "       'Ground loose ball duel', 'Smart pass', 'Launch',\n",
              "       'Ground defending duel', 'Ground attacking duel', 'Foul',\n",
              "       'Free Kick', 'Cross', 'Shot', 'Reflexes', 'Touch', 'Clearance',\n",
              "       'Ball out of the field', 'Throw in', 'Goal kick', 'Corner',\n",
              "       'Goalkeeper leaving line', 'Hand pass', 'Acceleration',\n",
              "       'Save attempt', '', 'Free kick cross', 'Free kick shot',\n",
              "       'Hand foul', 'Violent Foul', 'Protest', 'Whistle',\n",
              "       'Late card foul', 'Out of game foul', 'Penalty', 'Time lost foul',\n",
              "       'Simulation'], dtype=object)"
            ]
          },
          "execution_count": 9,
          "metadata": {},
          "output_type": "execute_result"
        }
      ],
      "source": [
        "df['subEventName'].unique()"
      ]
    },
    {
      "cell_type": "code",
      "execution_count": 10,
      "metadata": {},
      "outputs": [
        {
          "data": {
            "text/html": [
              "<div>\n",
              "<style scoped>\n",
              "    .dataframe tbody tr th:only-of-type {\n",
              "        vertical-align: middle;\n",
              "    }\n",
              "\n",
              "    .dataframe tbody tr th {\n",
              "        vertical-align: top;\n",
              "    }\n",
              "\n",
              "    .dataframe thead th {\n",
              "        text-align: right;\n",
              "    }\n",
              "</style>\n",
              "<table border=\"1\" class=\"dataframe\">\n",
              "  <thead>\n",
              "    <tr style=\"text-align: right;\">\n",
              "      <th>subEventName</th>\n",
              "      <th>Hand pass</th>\n",
              "      <th>Head pass</th>\n",
              "      <th>High pass</th>\n",
              "      <th>Simple pass</th>\n",
              "      <th>Smart pass</th>\n",
              "    </tr>\n",
              "    <tr>\n",
              "      <th>name</th>\n",
              "      <th></th>\n",
              "      <th></th>\n",
              "      <th></th>\n",
              "      <th></th>\n",
              "      <th></th>\n",
              "    </tr>\n",
              "  </thead>\n",
              "  <tbody>\n",
              "    <tr>\n",
              "      <th>AFC Bournemouth</th>\n",
              "      <td>188</td>\n",
              "      <td>1105</td>\n",
              "      <td>1098</td>\n",
              "      <td>11653</td>\n",
              "      <td>304</td>\n",
              "    </tr>\n",
              "    <tr>\n",
              "      <th>Arsenal</th>\n",
              "      <td>221</td>\n",
              "      <td>1001</td>\n",
              "      <td>1187</td>\n",
              "      <td>18995</td>\n",
              "      <td>505</td>\n",
              "    </tr>\n",
              "    <tr>\n",
              "      <th>Brighton &amp; Hove Albion</th>\n",
              "      <td>109</td>\n",
              "      <td>1087</td>\n",
              "      <td>1265</td>\n",
              "      <td>10172</td>\n",
              "      <td>198</td>\n",
              "    </tr>\n",
              "    <tr>\n",
              "      <th>Burnley</th>\n",
              "      <td>111</td>\n",
              "      <td>1322</td>\n",
              "      <td>1309</td>\n",
              "      <td>8484</td>\n",
              "      <td>159</td>\n",
              "    </tr>\n",
              "    <tr>\n",
              "      <th>Chelsea</th>\n",
              "      <td>169</td>\n",
              "      <td>854</td>\n",
              "      <td>1243</td>\n",
              "      <td>16751</td>\n",
              "      <td>377</td>\n",
              "    </tr>\n",
              "    <tr>\n",
              "      <th>Crystal Palace</th>\n",
              "      <td>89</td>\n",
              "      <td>943</td>\n",
              "      <td>1086</td>\n",
              "      <td>9989</td>\n",
              "      <td>252</td>\n",
              "    </tr>\n",
              "    <tr>\n",
              "      <th>Everton</th>\n",
              "      <td>135</td>\n",
              "      <td>1117</td>\n",
              "      <td>1314</td>\n",
              "      <td>10142</td>\n",
              "      <td>187</td>\n",
              "    </tr>\n",
              "    <tr>\n",
              "      <th>Huddersfield Town</th>\n",
              "      <td>80</td>\n",
              "      <td>1104</td>\n",
              "      <td>1300</td>\n",
              "      <td>10249</td>\n",
              "      <td>166</td>\n",
              "    </tr>\n",
              "    <tr>\n",
              "      <th>Leicester City</th>\n",
              "      <td>107</td>\n",
              "      <td>1275</td>\n",
              "      <td>1403</td>\n",
              "      <td>10258</td>\n",
              "      <td>242</td>\n",
              "    </tr>\n",
              "    <tr>\n",
              "      <th>Liverpool</th>\n",
              "      <td>174</td>\n",
              "      <td>1072</td>\n",
              "      <td>1318</td>\n",
              "      <td>18022</td>\n",
              "      <td>499</td>\n",
              "    </tr>\n",
              "    <tr>\n",
              "      <th>Manchester City</th>\n",
              "      <td>153</td>\n",
              "      <td>842</td>\n",
              "      <td>1018</td>\n",
              "      <td>24061</td>\n",
              "      <td>559</td>\n",
              "    </tr>\n",
              "    <tr>\n",
              "      <th>Manchester United</th>\n",
              "      <td>123</td>\n",
              "      <td>812</td>\n",
              "      <td>1212</td>\n",
              "      <td>15710</td>\n",
              "      <td>428</td>\n",
              "    </tr>\n",
              "    <tr>\n",
              "      <th>Newcastle United</th>\n",
              "      <td>94</td>\n",
              "      <td>1096</td>\n",
              "      <td>1326</td>\n",
              "      <td>9097</td>\n",
              "      <td>225</td>\n",
              "    </tr>\n",
              "    <tr>\n",
              "      <th>Southampton</th>\n",
              "      <td>97</td>\n",
              "      <td>1183</td>\n",
              "      <td>1381</td>\n",
              "      <td>12381</td>\n",
              "      <td>300</td>\n",
              "    </tr>\n",
              "    <tr>\n",
              "      <th>Stoke City</th>\n",
              "      <td>89</td>\n",
              "      <td>1206</td>\n",
              "      <td>1156</td>\n",
              "      <td>8071</td>\n",
              "      <td>194</td>\n",
              "    </tr>\n",
              "    <tr>\n",
              "      <th>Swansea City</th>\n",
              "      <td>118</td>\n",
              "      <td>862</td>\n",
              "      <td>1201</td>\n",
              "      <td>11419</td>\n",
              "      <td>181</td>\n",
              "    </tr>\n",
              "    <tr>\n",
              "      <th>Tottenham Hotspur</th>\n",
              "      <td>160</td>\n",
              "      <td>992</td>\n",
              "      <td>1327</td>\n",
              "      <td>16967</td>\n",
              "      <td>454</td>\n",
              "    </tr>\n",
              "    <tr>\n",
              "      <th>Watford</th>\n",
              "      <td>120</td>\n",
              "      <td>1182</td>\n",
              "      <td>1266</td>\n",
              "      <td>10802</td>\n",
              "      <td>281</td>\n",
              "    </tr>\n",
              "    <tr>\n",
              "      <th>West Bromwich Albion</th>\n",
              "      <td>57</td>\n",
              "      <td>1177</td>\n",
              "      <td>1413</td>\n",
              "      <td>8401</td>\n",
              "      <td>165</td>\n",
              "    </tr>\n",
              "    <tr>\n",
              "      <th>West Ham United</th>\n",
              "      <td>80</td>\n",
              "      <td>1100</td>\n",
              "      <td>1244</td>\n",
              "      <td>9781</td>\n",
              "      <td>205</td>\n",
              "    </tr>\n",
              "  </tbody>\n",
              "</table>\n",
              "</div>"
            ],
            "text/plain": [
              "subEventName            Hand pass  Head pass  High pass  Simple pass  \\\n",
              "name                                                                   \n",
              "AFC Bournemouth               188       1105       1098        11653   \n",
              "Arsenal                       221       1001       1187        18995   \n",
              "Brighton & Hove Albion        109       1087       1265        10172   \n",
              "Burnley                       111       1322       1309         8484   \n",
              "Chelsea                       169        854       1243        16751   \n",
              "Crystal Palace                 89        943       1086         9989   \n",
              "Everton                       135       1117       1314        10142   \n",
              "Huddersfield Town              80       1104       1300        10249   \n",
              "Leicester City                107       1275       1403        10258   \n",
              "Liverpool                     174       1072       1318        18022   \n",
              "Manchester City               153        842       1018        24061   \n",
              "Manchester United             123        812       1212        15710   \n",
              "Newcastle United               94       1096       1326         9097   \n",
              "Southampton                    97       1183       1381        12381   \n",
              "Stoke City                     89       1206       1156         8071   \n",
              "Swansea City                  118        862       1201        11419   \n",
              "Tottenham Hotspur             160        992       1327        16967   \n",
              "Watford                       120       1182       1266        10802   \n",
              "West Bromwich Albion           57       1177       1413         8401   \n",
              "West Ham United                80       1100       1244         9781   \n",
              "\n",
              "subEventName            Smart pass  \n",
              "name                                \n",
              "AFC Bournemouth                304  \n",
              "Arsenal                        505  \n",
              "Brighton & Hove Albion         198  \n",
              "Burnley                        159  \n",
              "Chelsea                        377  \n",
              "Crystal Palace                 252  \n",
              "Everton                        187  \n",
              "Huddersfield Town              166  \n",
              "Leicester City                 242  \n",
              "Liverpool                      499  \n",
              "Manchester City                559  \n",
              "Manchester United              428  \n",
              "Newcastle United               225  \n",
              "Southampton                    300  \n",
              "Stoke City                     194  \n",
              "Swansea City                   181  \n",
              "Tottenham Hotspur              454  \n",
              "Watford                        281  \n",
              "West Bromwich Albion           165  \n",
              "West Ham United                205  "
            ]
          },
          "execution_count": 10,
          "metadata": {},
          "output_type": "execute_result"
        }
      ],
      "source": [
        "#countig number o pass by teams\n",
        "df_filtered = df[df['subEventName'].isin(['Head pass', 'Simple pass', 'High pass', 'Smart pass', 'Hand pass'])]\n",
        "df_total_eventos = pd.pivot_table(df_filtered, index='name', columns='subEventName', aggfunc='size', fill_value=0)\n",
        "df_total_eventos"
      ]
    },
    {
      "cell_type": "code",
      "execution_count": 24,
      "metadata": {},
      "outputs": [],
      "source": [
        "df_total_eventos['total'] = df_total_eventos['Hand pass'] + df_total_eventos['Head pass'] + df_total_eventos['High pass'] + df_total_eventos['Simple pass'] + df_total_eventos['Smart pass'] "
      ]
    },
    {
      "cell_type": "code",
      "execution_count": 39,
      "metadata": {},
      "outputs": [
        {
          "data": {
            "text/plain": [
              "Index(['Hand pass', 'Head pass', 'High pass', 'Simple pass', 'Smart pass',\n",
              "       'total', 'mean'],\n",
              "      dtype='object', name='subEventName')"
            ]
          },
          "execution_count": 39,
          "metadata": {},
          "output_type": "execute_result"
        }
      ],
      "source": [
        "df_total_eventos.columns"
      ]
    },
    {
      "cell_type": "code",
      "execution_count": 27,
      "metadata": {},
      "outputs": [
        {
          "data": {
            "text/html": [
              "<div>\n",
              "<style scoped>\n",
              "    .dataframe tbody tr th:only-of-type {\n",
              "        vertical-align: middle;\n",
              "    }\n",
              "\n",
              "    .dataframe tbody tr th {\n",
              "        vertical-align: top;\n",
              "    }\n",
              "\n",
              "    .dataframe thead th {\n",
              "        text-align: right;\n",
              "    }\n",
              "</style>\n",
              "<table border=\"1\" class=\"dataframe\">\n",
              "  <thead>\n",
              "    <tr style=\"text-align: right;\">\n",
              "      <th>subEventName</th>\n",
              "      <th>Hand pass</th>\n",
              "      <th>Head pass</th>\n",
              "      <th>High pass</th>\n",
              "      <th>Simple pass</th>\n",
              "      <th>Smart pass</th>\n",
              "      <th>total</th>\n",
              "      <th>mean</th>\n",
              "    </tr>\n",
              "    <tr>\n",
              "      <th>name</th>\n",
              "      <th></th>\n",
              "      <th></th>\n",
              "      <th></th>\n",
              "      <th></th>\n",
              "      <th></th>\n",
              "      <th></th>\n",
              "      <th></th>\n",
              "    </tr>\n",
              "  </thead>\n",
              "  <tbody>\n",
              "    <tr>\n",
              "      <th>AFC Bournemouth</th>\n",
              "      <td>188</td>\n",
              "      <td>1105</td>\n",
              "      <td>1098</td>\n",
              "      <td>11653</td>\n",
              "      <td>304</td>\n",
              "      <td>14348</td>\n",
              "      <td>377.578947</td>\n",
              "    </tr>\n",
              "    <tr>\n",
              "      <th>Arsenal</th>\n",
              "      <td>221</td>\n",
              "      <td>1001</td>\n",
              "      <td>1187</td>\n",
              "      <td>18995</td>\n",
              "      <td>505</td>\n",
              "      <td>21909</td>\n",
              "      <td>576.552632</td>\n",
              "    </tr>\n",
              "    <tr>\n",
              "      <th>Brighton &amp; Hove Albion</th>\n",
              "      <td>109</td>\n",
              "      <td>1087</td>\n",
              "      <td>1265</td>\n",
              "      <td>10172</td>\n",
              "      <td>198</td>\n",
              "      <td>12831</td>\n",
              "      <td>337.657895</td>\n",
              "    </tr>\n",
              "    <tr>\n",
              "      <th>Burnley</th>\n",
              "      <td>111</td>\n",
              "      <td>1322</td>\n",
              "      <td>1309</td>\n",
              "      <td>8484</td>\n",
              "      <td>159</td>\n",
              "      <td>11385</td>\n",
              "      <td>299.605263</td>\n",
              "    </tr>\n",
              "    <tr>\n",
              "      <th>Chelsea</th>\n",
              "      <td>169</td>\n",
              "      <td>854</td>\n",
              "      <td>1243</td>\n",
              "      <td>16751</td>\n",
              "      <td>377</td>\n",
              "      <td>19394</td>\n",
              "      <td>510.368421</td>\n",
              "    </tr>\n",
              "    <tr>\n",
              "      <th>Crystal Palace</th>\n",
              "      <td>89</td>\n",
              "      <td>943</td>\n",
              "      <td>1086</td>\n",
              "      <td>9989</td>\n",
              "      <td>252</td>\n",
              "      <td>12359</td>\n",
              "      <td>325.236842</td>\n",
              "    </tr>\n",
              "    <tr>\n",
              "      <th>Everton</th>\n",
              "      <td>135</td>\n",
              "      <td>1117</td>\n",
              "      <td>1314</td>\n",
              "      <td>10142</td>\n",
              "      <td>187</td>\n",
              "      <td>12895</td>\n",
              "      <td>339.342105</td>\n",
              "    </tr>\n",
              "    <tr>\n",
              "      <th>Huddersfield Town</th>\n",
              "      <td>80</td>\n",
              "      <td>1104</td>\n",
              "      <td>1300</td>\n",
              "      <td>10249</td>\n",
              "      <td>166</td>\n",
              "      <td>12899</td>\n",
              "      <td>339.447368</td>\n",
              "    </tr>\n",
              "    <tr>\n",
              "      <th>Leicester City</th>\n",
              "      <td>107</td>\n",
              "      <td>1275</td>\n",
              "      <td>1403</td>\n",
              "      <td>10258</td>\n",
              "      <td>242</td>\n",
              "      <td>13285</td>\n",
              "      <td>349.605263</td>\n",
              "    </tr>\n",
              "    <tr>\n",
              "      <th>Liverpool</th>\n",
              "      <td>174</td>\n",
              "      <td>1072</td>\n",
              "      <td>1318</td>\n",
              "      <td>18022</td>\n",
              "      <td>499</td>\n",
              "      <td>21085</td>\n",
              "      <td>554.868421</td>\n",
              "    </tr>\n",
              "    <tr>\n",
              "      <th>Manchester City</th>\n",
              "      <td>153</td>\n",
              "      <td>842</td>\n",
              "      <td>1018</td>\n",
              "      <td>24061</td>\n",
              "      <td>559</td>\n",
              "      <td>26633</td>\n",
              "      <td>700.868421</td>\n",
              "    </tr>\n",
              "    <tr>\n",
              "      <th>Manchester United</th>\n",
              "      <td>123</td>\n",
              "      <td>812</td>\n",
              "      <td>1212</td>\n",
              "      <td>15710</td>\n",
              "      <td>428</td>\n",
              "      <td>18285</td>\n",
              "      <td>481.184211</td>\n",
              "    </tr>\n",
              "    <tr>\n",
              "      <th>Newcastle United</th>\n",
              "      <td>94</td>\n",
              "      <td>1096</td>\n",
              "      <td>1326</td>\n",
              "      <td>9097</td>\n",
              "      <td>225</td>\n",
              "      <td>11838</td>\n",
              "      <td>311.526316</td>\n",
              "    </tr>\n",
              "    <tr>\n",
              "      <th>Southampton</th>\n",
              "      <td>97</td>\n",
              "      <td>1183</td>\n",
              "      <td>1381</td>\n",
              "      <td>12381</td>\n",
              "      <td>300</td>\n",
              "      <td>15342</td>\n",
              "      <td>403.736842</td>\n",
              "    </tr>\n",
              "    <tr>\n",
              "      <th>Stoke City</th>\n",
              "      <td>89</td>\n",
              "      <td>1206</td>\n",
              "      <td>1156</td>\n",
              "      <td>8071</td>\n",
              "      <td>194</td>\n",
              "      <td>10716</td>\n",
              "      <td>282.000000</td>\n",
              "    </tr>\n",
              "    <tr>\n",
              "      <th>Swansea City</th>\n",
              "      <td>118</td>\n",
              "      <td>862</td>\n",
              "      <td>1201</td>\n",
              "      <td>11419</td>\n",
              "      <td>181</td>\n",
              "      <td>13781</td>\n",
              "      <td>362.657895</td>\n",
              "    </tr>\n",
              "    <tr>\n",
              "      <th>Tottenham Hotspur</th>\n",
              "      <td>160</td>\n",
              "      <td>992</td>\n",
              "      <td>1327</td>\n",
              "      <td>16967</td>\n",
              "      <td>454</td>\n",
              "      <td>19900</td>\n",
              "      <td>523.684211</td>\n",
              "    </tr>\n",
              "    <tr>\n",
              "      <th>Watford</th>\n",
              "      <td>120</td>\n",
              "      <td>1182</td>\n",
              "      <td>1266</td>\n",
              "      <td>10802</td>\n",
              "      <td>281</td>\n",
              "      <td>13651</td>\n",
              "      <td>359.236842</td>\n",
              "    </tr>\n",
              "    <tr>\n",
              "      <th>West Bromwich Albion</th>\n",
              "      <td>57</td>\n",
              "      <td>1177</td>\n",
              "      <td>1413</td>\n",
              "      <td>8401</td>\n",
              "      <td>165</td>\n",
              "      <td>11213</td>\n",
              "      <td>295.078947</td>\n",
              "    </tr>\n",
              "    <tr>\n",
              "      <th>West Ham United</th>\n",
              "      <td>80</td>\n",
              "      <td>1100</td>\n",
              "      <td>1244</td>\n",
              "      <td>9781</td>\n",
              "      <td>205</td>\n",
              "      <td>12410</td>\n",
              "      <td>326.578947</td>\n",
              "    </tr>\n",
              "  </tbody>\n",
              "</table>\n",
              "</div>"
            ],
            "text/plain": [
              "subEventName            Hand pass  Head pass  High pass  Simple pass  \\\n",
              "name                                                                   \n",
              "AFC Bournemouth               188       1105       1098        11653   \n",
              "Arsenal                       221       1001       1187        18995   \n",
              "Brighton & Hove Albion        109       1087       1265        10172   \n",
              "Burnley                       111       1322       1309         8484   \n",
              "Chelsea                       169        854       1243        16751   \n",
              "Crystal Palace                 89        943       1086         9989   \n",
              "Everton                       135       1117       1314        10142   \n",
              "Huddersfield Town              80       1104       1300        10249   \n",
              "Leicester City                107       1275       1403        10258   \n",
              "Liverpool                     174       1072       1318        18022   \n",
              "Manchester City               153        842       1018        24061   \n",
              "Manchester United             123        812       1212        15710   \n",
              "Newcastle United               94       1096       1326         9097   \n",
              "Southampton                    97       1183       1381        12381   \n",
              "Stoke City                     89       1206       1156         8071   \n",
              "Swansea City                  118        862       1201        11419   \n",
              "Tottenham Hotspur             160        992       1327        16967   \n",
              "Watford                       120       1182       1266        10802   \n",
              "West Bromwich Albion           57       1177       1413         8401   \n",
              "West Ham United                80       1100       1244         9781   \n",
              "\n",
              "subEventName            Smart pass  total        mean  \n",
              "name                                                   \n",
              "AFC Bournemouth                304  14348  377.578947  \n",
              "Arsenal                        505  21909  576.552632  \n",
              "Brighton & Hove Albion         198  12831  337.657895  \n",
              "Burnley                        159  11385  299.605263  \n",
              "Chelsea                        377  19394  510.368421  \n",
              "Crystal Palace                 252  12359  325.236842  \n",
              "Everton                        187  12895  339.342105  \n",
              "Huddersfield Town              166  12899  339.447368  \n",
              "Leicester City                 242  13285  349.605263  \n",
              "Liverpool                      499  21085  554.868421  \n",
              "Manchester City                559  26633  700.868421  \n",
              "Manchester United              428  18285  481.184211  \n",
              "Newcastle United               225  11838  311.526316  \n",
              "Southampton                    300  15342  403.736842  \n",
              "Stoke City                     194  10716  282.000000  \n",
              "Swansea City                   181  13781  362.657895  \n",
              "Tottenham Hotspur              454  19900  523.684211  \n",
              "Watford                        281  13651  359.236842  \n",
              "West Bromwich Albion           165  11213  295.078947  \n",
              "West Ham United                205  12410  326.578947  "
            ]
          },
          "execution_count": 27,
          "metadata": {},
          "output_type": "execute_result"
        }
      ],
      "source": [
        "df_total_eventos['mean'] = df_total_eventos['total']/38\n",
        "df_total_eventos\n"
      ]
    },
    {
      "cell_type": "code",
      "execution_count": 38,
      "metadata": {},
      "outputs": [
        {
          "data": {
            "application/vnd.plotly.v1+json": {
              "config": {
                "plotlyServerURL": "https://plot.ly"
              },
              "data": [
                {
                  "type": "bar",
                  "x": [
                    "AFC Bournemouth",
                    "Arsenal",
                    "Brighton & Hove Albion",
                    "Burnley",
                    "Chelsea",
                    "Crystal Palace",
                    "Everton",
                    "Huddersfield Town",
                    "Leicester City",
                    "Liverpool",
                    "Manchester City",
                    "Manchester United",
                    "Newcastle United",
                    "Southampton",
                    "Stoke City",
                    "Swansea City",
                    "Tottenham Hotspur",
                    "Watford",
                    "West Bromwich Albion",
                    "West Ham United"
                  ],
                  "y": [
                    377.57894736842104,
                    576.5526315789474,
                    337.6578947368421,
                    299.60526315789474,
                    510.36842105263156,
                    325.2368421052632,
                    339.3421052631579,
                    339.44736842105266,
                    349.60526315789474,
                    554.8684210526316,
                    700.8684210526316,
                    481.1842105263158,
                    311.5263157894737,
                    403.7368421052632,
                    282,
                    362.6578947368421,
                    523.6842105263158,
                    359.2368421052632,
                    295.07894736842104,
                    326.57894736842104
                  ]
                }
              ],
              "layout": {
                "template": {
                  "data": {
                    "bar": [
                      {
                        "error_x": {
                          "color": "#2a3f5f"
                        },
                        "error_y": {
                          "color": "#2a3f5f"
                        },
                        "marker": {
                          "line": {
                            "color": "#E5ECF6",
                            "width": 0.5
                          },
                          "pattern": {
                            "fillmode": "overlay",
                            "size": 10,
                            "solidity": 0.2
                          }
                        },
                        "type": "bar"
                      }
                    ],
                    "barpolar": [
                      {
                        "marker": {
                          "line": {
                            "color": "#E5ECF6",
                            "width": 0.5
                          },
                          "pattern": {
                            "fillmode": "overlay",
                            "size": 10,
                            "solidity": 0.2
                          }
                        },
                        "type": "barpolar"
                      }
                    ],
                    "carpet": [
                      {
                        "aaxis": {
                          "endlinecolor": "#2a3f5f",
                          "gridcolor": "white",
                          "linecolor": "white",
                          "minorgridcolor": "white",
                          "startlinecolor": "#2a3f5f"
                        },
                        "baxis": {
                          "endlinecolor": "#2a3f5f",
                          "gridcolor": "white",
                          "linecolor": "white",
                          "minorgridcolor": "white",
                          "startlinecolor": "#2a3f5f"
                        },
                        "type": "carpet"
                      }
                    ],
                    "choropleth": [
                      {
                        "colorbar": {
                          "outlinewidth": 0,
                          "ticks": ""
                        },
                        "type": "choropleth"
                      }
                    ],
                    "contour": [
                      {
                        "colorbar": {
                          "outlinewidth": 0,
                          "ticks": ""
                        },
                        "colorscale": [
                          [
                            0,
                            "#0d0887"
                          ],
                          [
                            0.1111111111111111,
                            "#46039f"
                          ],
                          [
                            0.2222222222222222,
                            "#7201a8"
                          ],
                          [
                            0.3333333333333333,
                            "#9c179e"
                          ],
                          [
                            0.4444444444444444,
                            "#bd3786"
                          ],
                          [
                            0.5555555555555556,
                            "#d8576b"
                          ],
                          [
                            0.6666666666666666,
                            "#ed7953"
                          ],
                          [
                            0.7777777777777778,
                            "#fb9f3a"
                          ],
                          [
                            0.8888888888888888,
                            "#fdca26"
                          ],
                          [
                            1,
                            "#f0f921"
                          ]
                        ],
                        "type": "contour"
                      }
                    ],
                    "contourcarpet": [
                      {
                        "colorbar": {
                          "outlinewidth": 0,
                          "ticks": ""
                        },
                        "type": "contourcarpet"
                      }
                    ],
                    "heatmap": [
                      {
                        "colorbar": {
                          "outlinewidth": 0,
                          "ticks": ""
                        },
                        "colorscale": [
                          [
                            0,
                            "#0d0887"
                          ],
                          [
                            0.1111111111111111,
                            "#46039f"
                          ],
                          [
                            0.2222222222222222,
                            "#7201a8"
                          ],
                          [
                            0.3333333333333333,
                            "#9c179e"
                          ],
                          [
                            0.4444444444444444,
                            "#bd3786"
                          ],
                          [
                            0.5555555555555556,
                            "#d8576b"
                          ],
                          [
                            0.6666666666666666,
                            "#ed7953"
                          ],
                          [
                            0.7777777777777778,
                            "#fb9f3a"
                          ],
                          [
                            0.8888888888888888,
                            "#fdca26"
                          ],
                          [
                            1,
                            "#f0f921"
                          ]
                        ],
                        "type": "heatmap"
                      }
                    ],
                    "heatmapgl": [
                      {
                        "colorbar": {
                          "outlinewidth": 0,
                          "ticks": ""
                        },
                        "colorscale": [
                          [
                            0,
                            "#0d0887"
                          ],
                          [
                            0.1111111111111111,
                            "#46039f"
                          ],
                          [
                            0.2222222222222222,
                            "#7201a8"
                          ],
                          [
                            0.3333333333333333,
                            "#9c179e"
                          ],
                          [
                            0.4444444444444444,
                            "#bd3786"
                          ],
                          [
                            0.5555555555555556,
                            "#d8576b"
                          ],
                          [
                            0.6666666666666666,
                            "#ed7953"
                          ],
                          [
                            0.7777777777777778,
                            "#fb9f3a"
                          ],
                          [
                            0.8888888888888888,
                            "#fdca26"
                          ],
                          [
                            1,
                            "#f0f921"
                          ]
                        ],
                        "type": "heatmapgl"
                      }
                    ],
                    "histogram": [
                      {
                        "marker": {
                          "pattern": {
                            "fillmode": "overlay",
                            "size": 10,
                            "solidity": 0.2
                          }
                        },
                        "type": "histogram"
                      }
                    ],
                    "histogram2d": [
                      {
                        "colorbar": {
                          "outlinewidth": 0,
                          "ticks": ""
                        },
                        "colorscale": [
                          [
                            0,
                            "#0d0887"
                          ],
                          [
                            0.1111111111111111,
                            "#46039f"
                          ],
                          [
                            0.2222222222222222,
                            "#7201a8"
                          ],
                          [
                            0.3333333333333333,
                            "#9c179e"
                          ],
                          [
                            0.4444444444444444,
                            "#bd3786"
                          ],
                          [
                            0.5555555555555556,
                            "#d8576b"
                          ],
                          [
                            0.6666666666666666,
                            "#ed7953"
                          ],
                          [
                            0.7777777777777778,
                            "#fb9f3a"
                          ],
                          [
                            0.8888888888888888,
                            "#fdca26"
                          ],
                          [
                            1,
                            "#f0f921"
                          ]
                        ],
                        "type": "histogram2d"
                      }
                    ],
                    "histogram2dcontour": [
                      {
                        "colorbar": {
                          "outlinewidth": 0,
                          "ticks": ""
                        },
                        "colorscale": [
                          [
                            0,
                            "#0d0887"
                          ],
                          [
                            0.1111111111111111,
                            "#46039f"
                          ],
                          [
                            0.2222222222222222,
                            "#7201a8"
                          ],
                          [
                            0.3333333333333333,
                            "#9c179e"
                          ],
                          [
                            0.4444444444444444,
                            "#bd3786"
                          ],
                          [
                            0.5555555555555556,
                            "#d8576b"
                          ],
                          [
                            0.6666666666666666,
                            "#ed7953"
                          ],
                          [
                            0.7777777777777778,
                            "#fb9f3a"
                          ],
                          [
                            0.8888888888888888,
                            "#fdca26"
                          ],
                          [
                            1,
                            "#f0f921"
                          ]
                        ],
                        "type": "histogram2dcontour"
                      }
                    ],
                    "mesh3d": [
                      {
                        "colorbar": {
                          "outlinewidth": 0,
                          "ticks": ""
                        },
                        "type": "mesh3d"
                      }
                    ],
                    "parcoords": [
                      {
                        "line": {
                          "colorbar": {
                            "outlinewidth": 0,
                            "ticks": ""
                          }
                        },
                        "type": "parcoords"
                      }
                    ],
                    "pie": [
                      {
                        "automargin": true,
                        "type": "pie"
                      }
                    ],
                    "scatter": [
                      {
                        "fillpattern": {
                          "fillmode": "overlay",
                          "size": 10,
                          "solidity": 0.2
                        },
                        "type": "scatter"
                      }
                    ],
                    "scatter3d": [
                      {
                        "line": {
                          "colorbar": {
                            "outlinewidth": 0,
                            "ticks": ""
                          }
                        },
                        "marker": {
                          "colorbar": {
                            "outlinewidth": 0,
                            "ticks": ""
                          }
                        },
                        "type": "scatter3d"
                      }
                    ],
                    "scattercarpet": [
                      {
                        "marker": {
                          "colorbar": {
                            "outlinewidth": 0,
                            "ticks": ""
                          }
                        },
                        "type": "scattercarpet"
                      }
                    ],
                    "scattergeo": [
                      {
                        "marker": {
                          "colorbar": {
                            "outlinewidth": 0,
                            "ticks": ""
                          }
                        },
                        "type": "scattergeo"
                      }
                    ],
                    "scattergl": [
                      {
                        "marker": {
                          "colorbar": {
                            "outlinewidth": 0,
                            "ticks": ""
                          }
                        },
                        "type": "scattergl"
                      }
                    ],
                    "scattermapbox": [
                      {
                        "marker": {
                          "colorbar": {
                            "outlinewidth": 0,
                            "ticks": ""
                          }
                        },
                        "type": "scattermapbox"
                      }
                    ],
                    "scatterpolar": [
                      {
                        "marker": {
                          "colorbar": {
                            "outlinewidth": 0,
                            "ticks": ""
                          }
                        },
                        "type": "scatterpolar"
                      }
                    ],
                    "scatterpolargl": [
                      {
                        "marker": {
                          "colorbar": {
                            "outlinewidth": 0,
                            "ticks": ""
                          }
                        },
                        "type": "scatterpolargl"
                      }
                    ],
                    "scatterternary": [
                      {
                        "marker": {
                          "colorbar": {
                            "outlinewidth": 0,
                            "ticks": ""
                          }
                        },
                        "type": "scatterternary"
                      }
                    ],
                    "surface": [
                      {
                        "colorbar": {
                          "outlinewidth": 0,
                          "ticks": ""
                        },
                        "colorscale": [
                          [
                            0,
                            "#0d0887"
                          ],
                          [
                            0.1111111111111111,
                            "#46039f"
                          ],
                          [
                            0.2222222222222222,
                            "#7201a8"
                          ],
                          [
                            0.3333333333333333,
                            "#9c179e"
                          ],
                          [
                            0.4444444444444444,
                            "#bd3786"
                          ],
                          [
                            0.5555555555555556,
                            "#d8576b"
                          ],
                          [
                            0.6666666666666666,
                            "#ed7953"
                          ],
                          [
                            0.7777777777777778,
                            "#fb9f3a"
                          ],
                          [
                            0.8888888888888888,
                            "#fdca26"
                          ],
                          [
                            1,
                            "#f0f921"
                          ]
                        ],
                        "type": "surface"
                      }
                    ],
                    "table": [
                      {
                        "cells": {
                          "fill": {
                            "color": "#EBF0F8"
                          },
                          "line": {
                            "color": "white"
                          }
                        },
                        "header": {
                          "fill": {
                            "color": "#C8D4E3"
                          },
                          "line": {
                            "color": "white"
                          }
                        },
                        "type": "table"
                      }
                    ]
                  },
                  "layout": {
                    "annotationdefaults": {
                      "arrowcolor": "#2a3f5f",
                      "arrowhead": 0,
                      "arrowwidth": 1
                    },
                    "autotypenumbers": "strict",
                    "coloraxis": {
                      "colorbar": {
                        "outlinewidth": 0,
                        "ticks": ""
                      }
                    },
                    "colorscale": {
                      "diverging": [
                        [
                          0,
                          "#8e0152"
                        ],
                        [
                          0.1,
                          "#c51b7d"
                        ],
                        [
                          0.2,
                          "#de77ae"
                        ],
                        [
                          0.3,
                          "#f1b6da"
                        ],
                        [
                          0.4,
                          "#fde0ef"
                        ],
                        [
                          0.5,
                          "#f7f7f7"
                        ],
                        [
                          0.6,
                          "#e6f5d0"
                        ],
                        [
                          0.7,
                          "#b8e186"
                        ],
                        [
                          0.8,
                          "#7fbc41"
                        ],
                        [
                          0.9,
                          "#4d9221"
                        ],
                        [
                          1,
                          "#276419"
                        ]
                      ],
                      "sequential": [
                        [
                          0,
                          "#0d0887"
                        ],
                        [
                          0.1111111111111111,
                          "#46039f"
                        ],
                        [
                          0.2222222222222222,
                          "#7201a8"
                        ],
                        [
                          0.3333333333333333,
                          "#9c179e"
                        ],
                        [
                          0.4444444444444444,
                          "#bd3786"
                        ],
                        [
                          0.5555555555555556,
                          "#d8576b"
                        ],
                        [
                          0.6666666666666666,
                          "#ed7953"
                        ],
                        [
                          0.7777777777777778,
                          "#fb9f3a"
                        ],
                        [
                          0.8888888888888888,
                          "#fdca26"
                        ],
                        [
                          1,
                          "#f0f921"
                        ]
                      ],
                      "sequentialminus": [
                        [
                          0,
                          "#0d0887"
                        ],
                        [
                          0.1111111111111111,
                          "#46039f"
                        ],
                        [
                          0.2222222222222222,
                          "#7201a8"
                        ],
                        [
                          0.3333333333333333,
                          "#9c179e"
                        ],
                        [
                          0.4444444444444444,
                          "#bd3786"
                        ],
                        [
                          0.5555555555555556,
                          "#d8576b"
                        ],
                        [
                          0.6666666666666666,
                          "#ed7953"
                        ],
                        [
                          0.7777777777777778,
                          "#fb9f3a"
                        ],
                        [
                          0.8888888888888888,
                          "#fdca26"
                        ],
                        [
                          1,
                          "#f0f921"
                        ]
                      ]
                    },
                    "colorway": [
                      "#636efa",
                      "#EF553B",
                      "#00cc96",
                      "#ab63fa",
                      "#FFA15A",
                      "#19d3f3",
                      "#FF6692",
                      "#B6E880",
                      "#FF97FF",
                      "#FECB52"
                    ],
                    "font": {
                      "color": "#2a3f5f"
                    },
                    "geo": {
                      "bgcolor": "white",
                      "lakecolor": "white",
                      "landcolor": "#E5ECF6",
                      "showlakes": true,
                      "showland": true,
                      "subunitcolor": "white"
                    },
                    "hoverlabel": {
                      "align": "left"
                    },
                    "hovermode": "closest",
                    "mapbox": {
                      "style": "light"
                    },
                    "paper_bgcolor": "white",
                    "plot_bgcolor": "#E5ECF6",
                    "polar": {
                      "angularaxis": {
                        "gridcolor": "white",
                        "linecolor": "white",
                        "ticks": ""
                      },
                      "bgcolor": "#E5ECF6",
                      "radialaxis": {
                        "gridcolor": "white",
                        "linecolor": "white",
                        "ticks": ""
                      }
                    },
                    "scene": {
                      "xaxis": {
                        "backgroundcolor": "#E5ECF6",
                        "gridcolor": "white",
                        "gridwidth": 2,
                        "linecolor": "white",
                        "showbackground": true,
                        "ticks": "",
                        "zerolinecolor": "white"
                      },
                      "yaxis": {
                        "backgroundcolor": "#E5ECF6",
                        "gridcolor": "white",
                        "gridwidth": 2,
                        "linecolor": "white",
                        "showbackground": true,
                        "ticks": "",
                        "zerolinecolor": "white"
                      },
                      "zaxis": {
                        "backgroundcolor": "#E5ECF6",
                        "gridcolor": "white",
                        "gridwidth": 2,
                        "linecolor": "white",
                        "showbackground": true,
                        "ticks": "",
                        "zerolinecolor": "white"
                      }
                    },
                    "shapedefaults": {
                      "line": {
                        "color": "#2a3f5f"
                      }
                    },
                    "ternary": {
                      "aaxis": {
                        "gridcolor": "white",
                        "linecolor": "white",
                        "ticks": ""
                      },
                      "baxis": {
                        "gridcolor": "white",
                        "linecolor": "white",
                        "ticks": ""
                      },
                      "bgcolor": "#E5ECF6",
                      "caxis": {
                        "gridcolor": "white",
                        "linecolor": "white",
                        "ticks": ""
                      }
                    },
                    "title": {
                      "x": 0.05
                    },
                    "xaxis": {
                      "automargin": true,
                      "gridcolor": "white",
                      "linecolor": "white",
                      "ticks": "",
                      "title": {
                        "standoff": 15
                      },
                      "zerolinecolor": "white",
                      "zerolinewidth": 2
                    },
                    "yaxis": {
                      "automargin": true,
                      "gridcolor": "white",
                      "linecolor": "white",
                      "ticks": "",
                      "title": {
                        "standoff": 15
                      },
                      "zerolinecolor": "white",
                      "zerolinewidth": 2
                    }
                  }
                },
                "title": {
                  "text": "Média de Passes por Time"
                },
                "xaxis": {
                  "title": {
                    "text": "Time"
                  }
                },
                "yaxis": {
                  "title": {
                    "text": "Média de Passes"
                  }
                }
              }
            }
          },
          "metadata": {},
          "output_type": "display_data"
        }
      ],
      "source": [
        "# Criação do gráfico de barras\n",
        "fig = go.Figure(data=go.Bar(x=df_total_eventos.index, y=df_total_eventos['mean']))\n",
        "\n",
        "# Configurações do layout\n",
        "fig.update_layout(title='Média de Passes por Time',\n",
        "                  xaxis_title='Time',\n",
        "                  yaxis_title='Média de Passes')\n",
        "\n",
        "# Exibição do gráfico\n",
        "fig.show()"
      ]
    }
  ],
  "metadata": {
    "colab": {
      "provenance": []
    },
    "kernelspec": {
      "display_name": "Python 3",
      "name": "python3"
    },
    "language_info": {
      "codemirror_mode": {
        "name": "ipython",
        "version": 3
      },
      "file_extension": ".py",
      "mimetype": "text/x-python",
      "name": "python",
      "nbconvert_exporter": "python",
      "pygments_lexer": "ipython3",
      "version": "3.9.6"
    },
    "widgets": {
      "application/vnd.jupyter.widget-state+json": {
        "1ef24da30db6405d83901bea08cb9c8b": {
          "model_module": "@jupyter-widgets/controls",
          "model_module_version": "1.5.0",
          "model_name": "HTMLModel",
          "state": {
            "_dom_classes": [],
            "_model_module": "@jupyter-widgets/controls",
            "_model_module_version": "1.5.0",
            "_model_name": "HTMLModel",
            "_view_count": null,
            "_view_module": "@jupyter-widgets/controls",
            "_view_module_version": "1.5.0",
            "_view_name": "HTMLView",
            "description": "",
            "description_tooltip": null,
            "layout": "IPY_MODEL_fdd9a8635bbe463180cee90e4c990f2e",
            "placeholder": "​",
            "style": "IPY_MODEL_621badca1bd14a9b899b44cf21bfa6fd",
            "value": "100%"
          }
        },
        "255518c7c4494a5b8f494cbaa925b214": {
          "model_module": "@jupyter-widgets/controls",
          "model_module_version": "1.5.0",
          "model_name": "HTMLModel",
          "state": {
            "_dom_classes": [],
            "_model_module": "@jupyter-widgets/controls",
            "_model_module_version": "1.5.0",
            "_model_name": "HTMLModel",
            "_view_count": null,
            "_view_module": "@jupyter-widgets/controls",
            "_view_module_version": "1.5.0",
            "_view_name": "HTMLView",
            "description": "",
            "description_tooltip": null,
            "layout": "IPY_MODEL_f4488a788e52477688ff6bd644e89e62",
            "placeholder": "​",
            "style": "IPY_MODEL_af59acf30b3141bf845dc5af522b4328",
            "value": " 2/2 [00:16&lt;00:00,  7.21s/it]"
          }
        },
        "621badca1bd14a9b899b44cf21bfa6fd": {
          "model_module": "@jupyter-widgets/controls",
          "model_module_version": "1.5.0",
          "model_name": "DescriptionStyleModel",
          "state": {
            "_model_module": "@jupyter-widgets/controls",
            "_model_module_version": "1.5.0",
            "_model_name": "DescriptionStyleModel",
            "_view_count": null,
            "_view_module": "@jupyter-widgets/base",
            "_view_module_version": "1.2.0",
            "_view_name": "StyleView",
            "description_width": ""
          }
        },
        "70c282a9718a45d68205f1d2ece6291a": {
          "model_module": "@jupyter-widgets/controls",
          "model_module_version": "1.5.0",
          "model_name": "ProgressStyleModel",
          "state": {
            "_model_module": "@jupyter-widgets/controls",
            "_model_module_version": "1.5.0",
            "_model_name": "ProgressStyleModel",
            "_view_count": null,
            "_view_module": "@jupyter-widgets/base",
            "_view_module_version": "1.2.0",
            "_view_name": "StyleView",
            "bar_color": null,
            "description_width": ""
          }
        },
        "7e951b5b8987448ebdb8f7ec3c39fbfe": {
          "model_module": "@jupyter-widgets/controls",
          "model_module_version": "1.5.0",
          "model_name": "FloatProgressModel",
          "state": {
            "_dom_classes": [],
            "_model_module": "@jupyter-widgets/controls",
            "_model_module_version": "1.5.0",
            "_model_name": "FloatProgressModel",
            "_view_count": null,
            "_view_module": "@jupyter-widgets/controls",
            "_view_module_version": "1.5.0",
            "_view_name": "ProgressView",
            "bar_style": "success",
            "description": "",
            "description_tooltip": null,
            "layout": "IPY_MODEL_9914eff89e4c4c9ca5b318e92cee6a19",
            "max": 2,
            "min": 0,
            "orientation": "horizontal",
            "style": "IPY_MODEL_70c282a9718a45d68205f1d2ece6291a",
            "value": 2
          }
        },
        "9914eff89e4c4c9ca5b318e92cee6a19": {
          "model_module": "@jupyter-widgets/base",
          "model_module_version": "1.2.0",
          "model_name": "LayoutModel",
          "state": {
            "_model_module": "@jupyter-widgets/base",
            "_model_module_version": "1.2.0",
            "_model_name": "LayoutModel",
            "_view_count": null,
            "_view_module": "@jupyter-widgets/base",
            "_view_module_version": "1.2.0",
            "_view_name": "LayoutView",
            "align_content": null,
            "align_items": null,
            "align_self": null,
            "border": null,
            "bottom": null,
            "display": null,
            "flex": null,
            "flex_flow": null,
            "grid_area": null,
            "grid_auto_columns": null,
            "grid_auto_flow": null,
            "grid_auto_rows": null,
            "grid_column": null,
            "grid_gap": null,
            "grid_row": null,
            "grid_template_areas": null,
            "grid_template_columns": null,
            "grid_template_rows": null,
            "height": null,
            "justify_content": null,
            "justify_items": null,
            "left": null,
            "margin": null,
            "max_height": null,
            "max_width": null,
            "min_height": null,
            "min_width": null,
            "object_fit": null,
            "object_position": null,
            "order": null,
            "overflow": null,
            "overflow_x": null,
            "overflow_y": null,
            "padding": null,
            "right": null,
            "top": null,
            "visibility": null,
            "width": null
          }
        },
        "a187cdcd918b4326ba597412f0d98c02": {
          "model_module": "@jupyter-widgets/controls",
          "model_module_version": "1.5.0",
          "model_name": "HBoxModel",
          "state": {
            "_dom_classes": [],
            "_model_module": "@jupyter-widgets/controls",
            "_model_module_version": "1.5.0",
            "_model_name": "HBoxModel",
            "_view_count": null,
            "_view_module": "@jupyter-widgets/controls",
            "_view_module_version": "1.5.0",
            "_view_name": "HBoxView",
            "box_style": "",
            "children": [
              "IPY_MODEL_1ef24da30db6405d83901bea08cb9c8b",
              "IPY_MODEL_7e951b5b8987448ebdb8f7ec3c39fbfe",
              "IPY_MODEL_255518c7c4494a5b8f494cbaa925b214"
            ],
            "layout": "IPY_MODEL_cf487d1e752740cfba4774bbd5350fa6"
          }
        },
        "af59acf30b3141bf845dc5af522b4328": {
          "model_module": "@jupyter-widgets/controls",
          "model_module_version": "1.5.0",
          "model_name": "DescriptionStyleModel",
          "state": {
            "_model_module": "@jupyter-widgets/controls",
            "_model_module_version": "1.5.0",
            "_model_name": "DescriptionStyleModel",
            "_view_count": null,
            "_view_module": "@jupyter-widgets/base",
            "_view_module_version": "1.2.0",
            "_view_name": "StyleView",
            "description_width": ""
          }
        },
        "cf487d1e752740cfba4774bbd5350fa6": {
          "model_module": "@jupyter-widgets/base",
          "model_module_version": "1.2.0",
          "model_name": "LayoutModel",
          "state": {
            "_model_module": "@jupyter-widgets/base",
            "_model_module_version": "1.2.0",
            "_model_name": "LayoutModel",
            "_view_count": null,
            "_view_module": "@jupyter-widgets/base",
            "_view_module_version": "1.2.0",
            "_view_name": "LayoutView",
            "align_content": null,
            "align_items": null,
            "align_self": null,
            "border": null,
            "bottom": null,
            "display": null,
            "flex": null,
            "flex_flow": null,
            "grid_area": null,
            "grid_auto_columns": null,
            "grid_auto_flow": null,
            "grid_auto_rows": null,
            "grid_column": null,
            "grid_gap": null,
            "grid_row": null,
            "grid_template_areas": null,
            "grid_template_columns": null,
            "grid_template_rows": null,
            "height": null,
            "justify_content": null,
            "justify_items": null,
            "left": null,
            "margin": null,
            "max_height": null,
            "max_width": null,
            "min_height": null,
            "min_width": null,
            "object_fit": null,
            "object_position": null,
            "order": null,
            "overflow": null,
            "overflow_x": null,
            "overflow_y": null,
            "padding": null,
            "right": null,
            "top": null,
            "visibility": null,
            "width": null
          }
        },
        "f4488a788e52477688ff6bd644e89e62": {
          "model_module": "@jupyter-widgets/base",
          "model_module_version": "1.2.0",
          "model_name": "LayoutModel",
          "state": {
            "_model_module": "@jupyter-widgets/base",
            "_model_module_version": "1.2.0",
            "_model_name": "LayoutModel",
            "_view_count": null,
            "_view_module": "@jupyter-widgets/base",
            "_view_module_version": "1.2.0",
            "_view_name": "LayoutView",
            "align_content": null,
            "align_items": null,
            "align_self": null,
            "border": null,
            "bottom": null,
            "display": null,
            "flex": null,
            "flex_flow": null,
            "grid_area": null,
            "grid_auto_columns": null,
            "grid_auto_flow": null,
            "grid_auto_rows": null,
            "grid_column": null,
            "grid_gap": null,
            "grid_row": null,
            "grid_template_areas": null,
            "grid_template_columns": null,
            "grid_template_rows": null,
            "height": null,
            "justify_content": null,
            "justify_items": null,
            "left": null,
            "margin": null,
            "max_height": null,
            "max_width": null,
            "min_height": null,
            "min_width": null,
            "object_fit": null,
            "object_position": null,
            "order": null,
            "overflow": null,
            "overflow_x": null,
            "overflow_y": null,
            "padding": null,
            "right": null,
            "top": null,
            "visibility": null,
            "width": null
          }
        },
        "fdd9a8635bbe463180cee90e4c990f2e": {
          "model_module": "@jupyter-widgets/base",
          "model_module_version": "1.2.0",
          "model_name": "LayoutModel",
          "state": {
            "_model_module": "@jupyter-widgets/base",
            "_model_module_version": "1.2.0",
            "_model_name": "LayoutModel",
            "_view_count": null,
            "_view_module": "@jupyter-widgets/base",
            "_view_module_version": "1.2.0",
            "_view_name": "LayoutView",
            "align_content": null,
            "align_items": null,
            "align_self": null,
            "border": null,
            "bottom": null,
            "display": null,
            "flex": null,
            "flex_flow": null,
            "grid_area": null,
            "grid_auto_columns": null,
            "grid_auto_flow": null,
            "grid_auto_rows": null,
            "grid_column": null,
            "grid_gap": null,
            "grid_row": null,
            "grid_template_areas": null,
            "grid_template_columns": null,
            "grid_template_rows": null,
            "height": null,
            "justify_content": null,
            "justify_items": null,
            "left": null,
            "margin": null,
            "max_height": null,
            "max_width": null,
            "min_height": null,
            "min_width": null,
            "object_fit": null,
            "object_position": null,
            "order": null,
            "overflow": null,
            "overflow_x": null,
            "overflow_y": null,
            "padding": null,
            "right": null,
            "top": null,
            "visibility": null,
            "width": null
          }
        }
      }
    }
  },
  "nbformat": 4,
  "nbformat_minor": 0
}
